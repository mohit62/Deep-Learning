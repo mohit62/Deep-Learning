{
  "nbformat": 4,
  "nbformat_minor": 0,
  "metadata": {
    "colab": {
      "name": "Copy of Copy of TensorFlow with GPU",
      "version": "0.3.2",
      "provenance": [],
      "collapsed_sections": [],
      "toc_visible": true,
      "include_colab_link": true
    },
    "kernelspec": {
      "name": "python2",
      "display_name": "Python 2"
    },
    "accelerator": "GPU"
  },
  "cells": [
    {
      "cell_type": "markdown",
      "metadata": {
        "id": "view-in-github",
        "colab_type": "text"
      },
      "source": [
        "[View in Colaboratory](https://colab.research.google.com/github/mohit62/Deep-Learning/blob/master/FacialExpressionClassificationUsingTransferLearning.ipynb)"
      ]
    },
    {
      "metadata": {
        "colab_type": "text",
        "id": "BlmQIFSLZDdc"
      },
      "cell_type": "markdown",
      "source": [
        "# Confirm TensorFlow can see the GPU\n",
        "\n",
        "Simply select \"GPU\" in the Accelerator drop-down in Notebook Settings (either through the Edit menu or the command palette at cmd/ctrl-shift-P)."
      ]
    },
    {
      "metadata": {
        "colab": {
          "base_uri": "https://localhost:8080/",
          "height": 34
        },
        "colab_type": "code",
        "id": "3IEVK-KFxi5Z",
        "outputId": "ad4a4047-4d51-4b49-f1a8-c0681dff3ba2"
      },
      "cell_type": "code",
      "source": [
        "import tensorflow as tf\n",
        "device_name = tf.test.gpu_device_name()\n",
        "if device_name != '/device:GPU:0':\n",
        "  raise SystemError('GPU device not found')\n",
        "print('Found GPU at: {}'.format(device_name))"
      ],
      "execution_count": 0,
      "outputs": [
        {
          "output_type": "stream",
          "text": [
            "Found GPU at: /device:GPU:0\n"
          ],
          "name": "stdout"
        }
      ]
    },
    {
      "metadata": {
        "colab_type": "text",
        "id": "QXRh0DPiZRyG"
      },
      "cell_type": "markdown",
      "source": [
        "# Observe TensorFlow speedup on GPU relative to CPU\n",
        "\n",
        "This example constructs a typical convolutional neural network layer over a\n",
        "random image and manually places the resulting ops on either the CPU or the GPU\n",
        "to compare execution speed."
      ]
    },
    {
      "metadata": {
        "colab": {
          "base_uri": "https://localhost:8080/",
          "height": 139
        },
        "colab_type": "code",
        "id": "t9ALbbpmY9rm",
        "outputId": "968cdb52-a069-4bd4-da10-de931063fe8b"
      },
      "cell_type": "code",
      "source": [
        "import tensorflow as tf\n",
        "import timeit\n",
        "\n",
        "# See https://www.tensorflow.org/tutorials/using_gpu#allowing_gpu_memory_growth\n",
        "config = tf.ConfigProto()\n",
        "config.gpu_options.allow_growth = True\n",
        "\n",
        "with tf.device('/cpu:0'):\n",
        "  random_image_cpu = tf.random_normal((100, 100, 100, 3))\n",
        "  net_cpu = tf.layers.conv2d(random_image_cpu, 32, 7)\n",
        "  net_cpu = tf.reduce_sum(net_cpu)\n",
        "\n",
        "with tf.device('/gpu:0'):\n",
        "  random_image_gpu = tf.random_normal((100, 100, 100, 3))\n",
        "  net_gpu = tf.layers.conv2d(random_image_gpu, 32, 7)\n",
        "  net_gpu = tf.reduce_sum(net_gpu)\n",
        "\n",
        "sess = tf.Session(config=config)\n",
        "\n",
        "# Test execution once to detect errors early.\n",
        "try:\n",
        "  sess.run(tf.global_variables_initializer())\n",
        "except tf.errors.InvalidArgumentError:\n",
        "  print(\n",
        "      '\\n\\nThis error most likely means that this notebook is not '\n",
        "      'configured to use a GPU.  Change this in Notebook Settings via the '\n",
        "      'command palette (cmd/ctrl-shift-P) or the Edit menu.\\n\\n')\n",
        "  raise\n",
        "\n",
        "def cpu():\n",
        "  sess.run(net_cpu)\n",
        "  \n",
        "def gpu():\n",
        "  sess.run(net_gpu)\n",
        "  \n",
        "# Runs the op several times.\n",
        "print('Time (s) to convolve 32x7x7x3 filter over random 100x100x100x3 images '\n",
        "      '(batch x height x width x channel). Sum of ten runs.')\n",
        "print('CPU (s):')\n",
        "cpu_time = timeit.timeit('cpu()', number=10, setup=\"from __main__ import cpu\")\n",
        "print(cpu_time)\n",
        "print('GPU (s):')\n",
        "gpu_time = timeit.timeit('gpu()', number=10, setup=\"from __main__ import gpu\")\n",
        "print(gpu_time)\n",
        "print('GPU speedup over CPU: {}x'.format(int(cpu_time/gpu_time)))\n",
        "\n",
        "sess.close()"
      ],
      "execution_count": 0,
      "outputs": [
        {
          "output_type": "stream",
          "text": [
            "Time (s) to convolve 32x7x7x3 filter over random 100x100x100x3 images (batch x height x width x channel). Sum of ten runs.\n",
            "CPU (s):\n",
            "10.327917099\n",
            "GPU (s):\n",
            "0.74477314949\n",
            "GPU speedup over CPU: 13x\n"
          ],
          "name": "stdout"
        }
      ]
    },
    {
      "metadata": {
        "id": "v1OA9N9Cj1N-",
        "colab_type": "text"
      },
      "cell_type": "markdown",
      "source": [
        "#Mount Google Drive to Collab\n"
      ]
    },
    {
      "metadata": {
        "id": "QON4qtu4Tfsc",
        "colab_type": "code",
        "colab": {
          "base_uri": "https://localhost:8080/",
          "height": 122
        },
        "outputId": "8f888afc-9fff-4b81-8c59-707290f3da0c"
      },
      "cell_type": "code",
      "source": [
        "from google.colab import drive\n",
        "drive.mount('/content/drive')"
      ],
      "execution_count": 0,
      "outputs": [
        {
          "output_type": "stream",
          "text": [
            "Go to this URL in a browser: https://accounts.google.com/o/oauth2/auth?client_id=947318989803-6bn6qk8qdgf4n4g3pfee6491hc0brc4i.apps.googleusercontent.com&redirect_uri=urn%3Aietf%3Awg%3Aoauth%3A2.0%3Aoob&scope=email%20https%3A%2F%2Fwww.googleapis.com%2Fauth%2Fdocs.test%20https%3A%2F%2Fwww.googleapis.com%2Fauth%2Fdrive%20https%3A%2F%2Fwww.googleapis.com%2Fauth%2Fdrive.photos.readonly%20https%3A%2F%2Fwww.googleapis.com%2Fauth%2Fpeopleapi.readonly&response_type=code\n",
            "\n",
            "Enter your authorization code:\n",
            "··········\n",
            "Mounted at /content/drive\n"
          ],
          "name": "stdout"
        }
      ]
    },
    {
      "metadata": {
        "id": "sNYLbFXwkDIS",
        "colab_type": "text"
      },
      "cell_type": "markdown",
      "source": [
        "#Read dataset in form of Pandas Dataframe\n"
      ]
    },
    {
      "metadata": {
        "id": "SwZSh8SNTr-T",
        "colab_type": "code",
        "colab": {}
      },
      "cell_type": "code",
      "source": [
        "import pandas as pd\n",
        "df=pd.read_csv(\"drive/My Drive/fer2013.csv\")\n"
      ],
      "execution_count": 0,
      "outputs": []
    },
    {
      "metadata": {
        "id": "XyCgvqdwkMFp",
        "colab_type": "text"
      },
      "cell_type": "markdown",
      "source": [
        "#Structure Xtrain i.e. rgb_batch and Ytrain i.e. train_pred into proper format"
      ]
    },
    {
      "metadata": {
        "id": "0dwRXaArVmwL",
        "colab_type": "code",
        "colab": {}
      },
      "cell_type": "code",
      "source": [
        "import numpy as np\n",
        "train_df=df[\"pixels\"].where(df[\"Usage\"]==\"Training\").dropna()\n",
        "train_predict=df[\"emotion\"].where(df[\"Usage\"]==\"Training\").dropna()\n",
        "train_pred=[]\n",
        "train_images=[]\n",
        "for image_no in range(len(train_df)):\n",
        "  temp=np.reshape(map(float,(train_df[image_no].split(\" \"))),(48,48))\n",
        "  train_images.append(temp)\n",
        "  train_pred.append(train_predict[image_no])\n",
        "train_images=(np.asarray(train_images)-np.mean(train_images))/np.std(train_images)\n",
        "rgb_batch = np.repeat(train_images[..., np.newaxis], 3, -1)\n",
        "\n",
        "train_pred=np.asarray(train_pred)"
      ],
      "execution_count": 0,
      "outputs": []
    },
    {
      "metadata": {
        "id": "ja9EWCQfkjsJ",
        "colab_type": "text"
      },
      "cell_type": "markdown",
      "source": [
        "#Convert Ytrain into Categorical Structure using One Hot encoding"
      ]
    },
    {
      "metadata": {
        "id": "Fok9gzdvuHbB",
        "colab_type": "code",
        "colab": {}
      },
      "cell_type": "code",
      "source": [
        "from keras.utils import np_utils\n",
        "from sklearn.preprocessing import LabelEncoder\n",
        "encoder = LabelEncoder()\n",
        "encoder.fit(train_pred)\n",
        "encoded_Y = encoder.transform(train_pred)\n",
        "# convert integers to dummy variables (i.e. one hot encoded)\n",
        "dummy_y = np_utils.to_categorical(encoded_Y)\n"
      ],
      "execution_count": 0,
      "outputs": []
    },
    {
      "metadata": {
        "id": "vGbGPn_Tkyz-",
        "colab_type": "text"
      },
      "cell_type": "markdown",
      "source": [
        "#Import pretrained VGG16 model without the Fully Connected layer"
      ]
    },
    {
      "metadata": {
        "id": "p64fPD6juN3d",
        "colab_type": "code",
        "colab": {
          "base_uri": "https://localhost:8080/",
          "height": 88
        },
        "outputId": "e885f153-f644-46e1-d1f8-94230bfdcc3b"
      },
      "cell_type": "code",
      "source": [
        "from keras.applications import VGG16\n",
        "vgg_conv = VGG16(weights='imagenet',\n",
        "                  include_top=False,\n",
        "                  input_shape=(48, 48, 3))"
      ],
      "execution_count": 0,
      "outputs": [
        {
          "output_type": "stream",
          "text": [
            "Downloading data from https://github.com/fchollet/deep-learning-models/releases/download/v0.1/vgg16_weights_tf_dim_ordering_tf_kernels_notop.h5\n",
            "58892288/58889256 [==============================] - 1s 0us/step\n",
            "58900480/58889256 [==============================] - 1s 0us/step\n"
          ],
          "name": "stdout"
        }
      ]
    },
    {
      "metadata": {
        "id": "bHleV-SplABS",
        "colab_type": "text"
      },
      "cell_type": "markdown",
      "source": [
        "#Network Architecture"
      ]
    },
    {
      "metadata": {
        "id": "9bF6Cz-k8SbJ",
        "colab_type": "code",
        "colab": {
          "base_uri": "https://localhost:8080/",
          "height": 816
        },
        "outputId": "e03cff52-9d59-4dcd-e5f7-907bf16b323c"
      },
      "cell_type": "code",
      "source": [
        "from keras.layers import Flatten,Dense,PReLU,Activation\n",
        "from keras.models import Sequential, Model, load_model\n",
        "from keras.layers.normalization import BatchNormalization\n",
        "for layer in vgg_conv.layers[:]:\n",
        "    layer.trainable = False\n",
        "   \n",
        "add_model=Sequential()\n",
        "add_model.add(Flatten(input_shape=vgg_conv.output_shape[1:],name=\"flatten\"))\n",
        "# Fully connected layer 1st layer\n",
        "add_model.add(Dense(256,name=\"Dense1\"))\n",
        "add_model.add(PReLU())\n",
        "add_model.add(BatchNormalization())\n",
        "\n",
        "add_model.add(Dense(256,name=\"Dense2\"))\n",
        "add_model.add(PReLU())\n",
        "add_model.add(BatchNormalization())\n",
        "add_model.add(Dense(7, activation='softmax'))\n",
        "model = Model(inputs=vgg_conv.input, outputs=add_model(vgg_conv.output))\n",
        "model.summary()"
      ],
      "execution_count": 0,
      "outputs": [
        {
          "output_type": "stream",
          "text": [
            "_________________________________________________________________\n",
            "Layer (type)                 Output Shape              Param #   \n",
            "=================================================================\n",
            "input_1 (InputLayer)         (None, 48, 48, 3)         0         \n",
            "_________________________________________________________________\n",
            "block1_conv1 (Conv2D)        (None, 48, 48, 64)        1792      \n",
            "_________________________________________________________________\n",
            "block1_conv2 (Conv2D)        (None, 48, 48, 64)        36928     \n",
            "_________________________________________________________________\n",
            "block1_pool (MaxPooling2D)   (None, 24, 24, 64)        0         \n",
            "_________________________________________________________________\n",
            "block2_conv1 (Conv2D)        (None, 24, 24, 128)       73856     \n",
            "_________________________________________________________________\n",
            "block2_conv2 (Conv2D)        (None, 24, 24, 128)       147584    \n",
            "_________________________________________________________________\n",
            "block2_pool (MaxPooling2D)   (None, 12, 12, 128)       0         \n",
            "_________________________________________________________________\n",
            "block3_conv1 (Conv2D)        (None, 12, 12, 256)       295168    \n",
            "_________________________________________________________________\n",
            "block3_conv2 (Conv2D)        (None, 12, 12, 256)       590080    \n",
            "_________________________________________________________________\n",
            "block3_conv3 (Conv2D)        (None, 12, 12, 256)       590080    \n",
            "_________________________________________________________________\n",
            "block3_pool (MaxPooling2D)   (None, 6, 6, 256)         0         \n",
            "_________________________________________________________________\n",
            "block4_conv1 (Conv2D)        (None, 6, 6, 512)         1180160   \n",
            "_________________________________________________________________\n",
            "block4_conv2 (Conv2D)        (None, 6, 6, 512)         2359808   \n",
            "_________________________________________________________________\n",
            "block4_conv3 (Conv2D)        (None, 6, 6, 512)         2359808   \n",
            "_________________________________________________________________\n",
            "block4_pool (MaxPooling2D)   (None, 3, 3, 512)         0         \n",
            "_________________________________________________________________\n",
            "block5_conv1 (Conv2D)        (None, 3, 3, 512)         2359808   \n",
            "_________________________________________________________________\n",
            "block5_conv2 (Conv2D)        (None, 3, 3, 512)         2359808   \n",
            "_________________________________________________________________\n",
            "block5_conv3 (Conv2D)        (None, 3, 3, 512)         2359808   \n",
            "_________________________________________________________________\n",
            "block5_pool (MaxPooling2D)   (None, 1, 1, 512)         0         \n",
            "_________________________________________________________________\n",
            "sequential_6 (Sequential)    (None, 7)                 201479    \n",
            "=================================================================\n",
            "Total params: 14,916,167\n",
            "Trainable params: 200,455\n",
            "Non-trainable params: 14,715,712\n",
            "_________________________________________________________________\n"
          ],
          "name": "stdout"
        }
      ]
    },
    {
      "metadata": {
        "id": "vSilLzrqlIqI",
        "colab_type": "text"
      },
      "cell_type": "markdown",
      "source": [
        "#Model Compilation"
      ]
    },
    {
      "metadata": {
        "id": "U9hv6_O0IhYh",
        "colab_type": "code",
        "colab": {}
      },
      "cell_type": "code",
      "source": [
        "model.compile(optimizer='adam', loss='categorical_crossentropy', metrics=[\"accuracy\"])\n"
      ],
      "execution_count": 0,
      "outputs": []
    },
    {
      "metadata": {
        "id": "sP0EBTsvlOk1",
        "colab_type": "text"
      },
      "cell_type": "markdown",
      "source": [
        "#Fit Model"
      ]
    },
    {
      "metadata": {
        "id": "AfprqrGbIpoX",
        "colab_type": "code",
        "colab": {
          "base_uri": "https://localhost:8080/",
          "height": 241
        },
        "outputId": "56cdce5e-3532-4aed-8f22-1c7025865140"
      },
      "cell_type": "code",
      "source": [
        "model.fit(rgb_batch, dummy_y,batch_size=128,epochs=5,validation_split=0.1)"
      ],
      "execution_count": 0,
      "outputs": [
        {
          "output_type": "stream",
          "text": [
            "Train on 25838 samples, validate on 2871 samples\n",
            "Epoch 1/5\n",
            "25838/25838 [==============================] - 18s 706us/step - loss: 0.1789 - acc: 0.9395 - val_loss: 1.9037 - val_acc: 0.6308\n",
            "Epoch 2/5\n",
            "25838/25838 [==============================] - 19s 719us/step - loss: 0.1760 - acc: 0.9400 - val_loss: 1.9909 - val_acc: 0.6224\n",
            "Epoch 3/5\n",
            "25838/25838 [==============================] - 18s 705us/step - loss: 0.1743 - acc: 0.9414 - val_loss: 2.0607 - val_acc: 0.6297\n",
            "Epoch 4/5\n",
            "25838/25838 [==============================] - 18s 706us/step - loss: 0.1738 - acc: 0.9412 - val_loss: 1.9669 - val_acc: 0.6287\n",
            "Epoch 5/5\n",
            "25838/25838 [==============================] - 18s 705us/step - loss: 0.1742 - acc: 0.9416 - val_loss: 1.9808 - val_acc: 0.6290\n"
          ],
          "name": "stdout"
        },
        {
          "output_type": "execute_result",
          "data": {
            "text/plain": [
              "<keras.callbacks.History at 0x7f2d10228e10>"
            ]
          },
          "metadata": {
            "tags": []
          },
          "execution_count": 20
        }
      ]
    },
    {
      "metadata": {
        "id": "fzIxEVEllUY8",
        "colab_type": "text"
      },
      "cell_type": "markdown",
      "source": [
        "##Structure Xtest i.e. rgb_batch_test and Ytest i.e. test_pred into proper format"
      ]
    },
    {
      "metadata": {
        "id": "ED26m_sghYnH",
        "colab_type": "code",
        "colab": {}
      },
      "cell_type": "code",
      "source": [
        "test_df=df[\"pixels\"].where(df[\"Usage\"]==\"PublicTest\").dropna()\n",
        "test_predict=df[\"emotion\"].where(df[\"Usage\"]==\"PublicTest\").dropna()\n",
        "test_pred=[]\n",
        "test_images=[]\n",
        "try:\n",
        "  for image_no in range(28709,len(test_df)+28709):\n",
        "    temp=np.reshape(map(float,(test_df[image_no].split(\" \"))),(48,48))\n",
        "    test_images.append(temp)\n",
        "    test_pred.append(test_predict[image_no])\n",
        "except:\n",
        "  print(image_no)\n",
        "test_images=(np.asarray(test_images)-np.mean(test_images))/np.std(test_images)\n",
        "rgb_batch_test = np.repeat(test_images[..., np.newaxis], 3, -1)\n",
        "test_pred=np.asarray(test_pred)"
      ],
      "execution_count": 0,
      "outputs": []
    },
    {
      "metadata": {
        "id": "Kz1u2CZGlg3f",
        "colab_type": "text"
      },
      "cell_type": "markdown",
      "source": [
        "#Convert Ytest into categorical format using One hot encoding"
      ]
    },
    {
      "metadata": {
        "id": "eAIIL2DNhZfa",
        "colab_type": "code",
        "colab": {}
      },
      "cell_type": "code",
      "source": [
        "from keras.utils import np_utils\n",
        "from sklearn.preprocessing import LabelEncoder\n",
        "encoder = LabelEncoder()\n",
        "encoder.fit(test_pred)\n",
        "encoded_Y = encoder.transform(test_pred)\n",
        "# convert integers to dummy variables (i.e. one hot encoded)\n",
        "dummy_y_test = np_utils.to_categorical(encoded_Y)\n"
      ],
      "execution_count": 0,
      "outputs": []
    },
    {
      "metadata": {
        "id": "i7iJ0RGAlvCf",
        "colab_type": "text"
      },
      "cell_type": "markdown",
      "source": [
        "#Evaluate Model on the test data"
      ]
    },
    {
      "metadata": {
        "id": "HaH5_DVFitYl",
        "colab_type": "code",
        "colab": {
          "base_uri": "https://localhost:8080/",
          "height": 51
        },
        "outputId": "f4ef8e92-fc98-421f-df95-fe0509e00e77"
      },
      "cell_type": "code",
      "source": [
        "model.evaluate(rgb_batch_test,dummy_y_test, verbose=1)"
      ],
      "execution_count": 0,
      "outputs": [
        {
          "output_type": "stream",
          "text": [
            "3589/3589 [==============================] - 4s 1ms/step\n"
          ],
          "name": "stdout"
        },
        {
          "output_type": "execute_result",
          "data": {
            "text/plain": [
              "[2.075911043812286, 0.6140986347504066]"
            ]
          },
          "metadata": {
            "tags": []
          },
          "execution_count": 24
        }
      ]
    }
  ]
}